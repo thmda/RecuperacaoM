{
  "nbformat": 4,
  "nbformat_minor": 0,
  "metadata": {
    "colab": {
      "provenance": [],
      "include_colab_link": true
    },
    "kernelspec": {
      "name": "python3",
      "display_name": "Python 3"
    },
    "language_info": {
      "name": "python"
    }
  },
  "cells": [
    {
      "cell_type": "markdown",
      "metadata": {
        "id": "view-in-github",
        "colab_type": "text"
      },
      "source": [
        "<a href=\"https://colab.research.google.com/github/thmda/RecuperacaoM/blob/main/C%C3%B3pia_de_Recupera%C3%A7%C3%A3o_Individual_RA3.ipynb\" target=\"_parent\"><img src=\"https://colab.research.google.com/assets/colab-badge.svg\" alt=\"Open In Colab\"/></a>"
      ]
    },
    {
      "cell_type": "markdown",
      "source": [
        "# Avaliação Individual RA3 - Recuperação - Manhã- 2024-1\n",
        "\n",
        "**Antes de começar, leia estas instruções cuidadosamente.**\n",
        "Esta avaliação é individual. Você poderá consultar qualquer fonte disponível na biblioteca, suas anotações ou na internet. Você não pode consultar outras pessoas mesmo por meio eletrônico.\n",
        "\n",
        "**Crie uma cópia deste caderno agora!** E continue lendo as instruções nesta cópia.\n",
        "\n",
        "**Não existirão prorrogações de prazo de entrega.** Se programe para entregar sua avaliação 5 minutos antes do fim do prazo para evitar imprevistos de última hora.\n",
        "\n",
        "**Trabalhos idênticos entregues por pessoas, diferentes, serão zerados.** Todos os trabalhos poderão ser submetidos a verificação de plágio. Por meio do sistema de instituição ou outro qualquer disponível na internet. Isso significa que respostas copiadas e coladas de sistemas de inteligência artificial que sejam classificados com semelhança maior que 70% também serão zerados. Qualquer diagnóstico indicativo de plágio acima de 70% também irá provocar o zeramento da avaliação.\n",
        "\n",
        "Para que sua avaliação seja considerada **ela deve ser entregues em uma cópia deste caderno de atividades na forma de um link postado no AVA da instituição (Canvas)** apenas no local correspondente a essa entrega na avaliação. Qualquer link enviado em comentários, e-mails, mensagens de Whatsapp, ou qualquer outro meio eletrônico serão ignorados provocando o zeramento desta avaliação.\n",
        "\n",
        "Entrega será realizada com a postagem de um link apontando para um ambiente de execução, no AVA da institução. Neste link o **seu caderno deve permitir ser executado (permissão de leitor)**. Serão aceitos links diretos ao ambiente do Google Colaboratory, ou Links a um caderno do Google Colaboratory que tenha sido **salvo pelo próprio Google Colaboratory** no GitHub. Links para outro ambiente, ou que requeiram qualquer tipo de **download, cliques extras, ou ainda, que requeiram aprovação para acesso, provocarão o zeramento desta avaliação**.\n",
        "\n",
        "Antes de enviar o seu trabalho, teste o compartilhamento em uma aba anônima do seu navegador web preferido.\n",
        "\n",
        "Todos os enunciados devem ser preservados e você deverá inserir uma célula de textos com o **seu nome, IMEDIATATAMENTE APÓS esta célula de texto** onde estão estas instruções.\n",
        "\n",
        "**Qualquer alteração do caderno contendo as suas respostas que seja registrada após a data de postagem provocará a anulação da avaliação**.\n",
        "\n",
        "Você poderá usar, nas suas respostas, só e somente só, a **linguagem Python** limitada ao uso das seguintes bibliotecas: **math, numpy, sympy, matplotlib, ipWidgets e IPython**. O uso de qualquer biblioteca não listada nestas instruções irá provocar o zeramento da questão.\n",
        "\n",
        "**Todo e qualquer gráfico que usar nas suas respostas deverá ser criado usando o Python**.\n",
        "\n",
        "**Todas as questões devem ser respondidas em caixas de texto, usando latex para permitir a renderização com qualidade matemática.** Exceto quando a questão indicar que você pode usar qualquer técnica computacional. Neste caso, as técnicas estarão limitadas as técnicas vistas em sala e as técnicas baseadas no retângulo de Reimann.\n",
        "\n",
        "Não é permitido usar qualquer técnica matemática baseada em cálculo numérico, séries de Taylor. de Leibntz, ou de qualquer outro tipo, ou ainda conhecimento matemático que fuja dos conteúdos apresenados em aula referentes ao estudo da integração.\n",
        "\n",
        "**Você poderá utilizar técnicas numéricas para calcular áreas, ou para encontrar o polinômio referente a um dado conjunto de pontos. Ainda a sim, sua resposta deve ser explicada em uma caixa de textos, usando latex para as equações matemáticas. Ainda assim, estas técnicas estão limitadas as técnicas apresentadas em sala (Reimann, Lagrange)**.\n",
        "\n",
        "**Esta avaliação está limitada a conteúdo de técnicas, regras e conceitos de integração**. Porém, pode ocorrer a necessidade do uso dos conceitos e técnicas de limites, ou derivadas para a solução das questões. Neste caso, o uso de técnicas de derivação está limitado as técnicas apresentadas em sala. Estando exclúidos qualquer método que inclua o uso de séries.\n",
        "\n",
        "Se você encontrar algo errado nesta avaliação anote suas observações na própria questão. Suas observações serão consideradas durante a avaliação e, em caso de pertinência, poderão encejar a anulação do item, ou da questão relacionados ao erro que você encontrou de acordo com os critérios do professor.\n",
        "\n",
        "**ATENÇÃO: TODAS AS QUESTÕES DEVEM SER RESPONDIDAS NA CÉLULA EM BRANCO QUE EXISTE APÓS CADA ENUNCIADO. OS ENUNCIADOS TÊM QUE SER PRESERVADOS.** Se, por algum motivo, ao fazer a cópia deste caderno de questões você perca as células em branco, deve criar uma nova célula após cada enunciado para colocar sua resposta. Você poderá criar quantas células de texto, ou código, que precisar desde que estas células estejam entre a questão que você está respondendo e a próxima questão deste caderno.\n",
        "\n",
        "**Lembrem-se a interpretação faz parte da questão.**\n",
        "\n",
        "**Rubrica de Avaliação**: As questões serão consideradas corretas se, e somente se, apresentarem a resposta correta, o processo algébrico estiver claro, completo e conciso (nenhuma passagem não explicada), os gráficos contiverem todas as informações necessárias ao seu entendimento.\n",
        "\n",
        "## Regras de Integração\n",
        "\n",
        "### Regras de Integração em Português\n",
        "\n",
        "$$\n",
        "\\int k \\, dx = kx + C, \\quad \\text{onde } k \\text{ é uma constante}\n",
        "$$\n",
        "\n",
        "$$\n",
        "\\int x^n \\, dx = \\frac{1}{n + 1} x^{n + 1} + C, \\quad \\text{se } n \\neq -1\n",
        "$$\n",
        "\n",
        "$$\n",
        "\\int \\frac{1}{x} \\, dx = \\ln |x| + C\n",
        "$$\n",
        "\n",
        "$$\n",
        "\\int k f(x) \\, dx = k \\int f(x) \\, dx\n",
        "$$\n",
        "\n",
        "$$\n",
        "\\int \\left( f(x) \\pm g(x) \\right) \\, dx = \\int f(x) \\, dx \\pm \\int g(x) \\, dx\n",
        "$$\n",
        "\n",
        "$$\n",
        "\\int \\sin x \\, dx = -\\cos x + C\n",
        "$$\n",
        "\n",
        "$$\n",
        "\\int \\cos x \\, dx = \\sin x + C\n",
        "$$\n",
        "\n",
        "$$\n",
        "\\int e^x \\, dx = e^x + C\n",
        "$$\n"
      ],
      "metadata": {
        "id": "vgXVkO9FGMwU"
      }
    },
    {
      "cell_type": "markdown",
      "source": [
        "# Questão 1 - Vale até 1,5 pontos\n",
        "Em uma região desértica, pesquisadores estão estudando o crescimento de uma espécie rara de cacto. O crescimento do cacto ao longo do tempo é modelado pela função $y = x^5(6 - x)$, onde $y$ representa a altura do cacto em metros e $x$ representa o tempo em anos desde o início do estudo. Os pesquisadores querem determinar a quantidade total de biomassa acumulada pelo cacto ao longo dos primeiros 2 anos. Sabemos, de estudos anteriores que a biomassa acumulada é diretamente proporcional (1:1) a área sob a curva de crescimento do cacto ao longo do tempo. Determine, usando apenas álgebra, a quantidade total de biomassa acumulada nestes dois anos.\n"
      ],
      "metadata": {
        "id": "vT6WZq9ZKd-r"
      }
    },
    {
      "cell_type": "markdown",
      "source": [
        "Realizando a distributiva da função:\n",
        "\n",
        "$$\\int(6x^5-x^6)dx$$\n",
        "\n",
        "derivando cada termo, pela regra da potência:\n",
        "\n",
        "$$6\\int{x^5}dx-\\int{x^6}dx$$\n",
        "\n",
        "$$6\\int{x^5}dx=x^6+C$$\n",
        "\n",
        "$$\\int{x^6}dx=\\frac{x^7}{7}+C$$\n",
        "\n",
        "derivando pela integral definida, de 0 a 2 anos:\n",
        "\n",
        "$$\\int_{0}^{2}x^6-\\frac{x^7}{7}\\Bigg|_{0}^{2}=$$\n",
        "\n",
        "$$(2^6-\\frac{2^7}{7})-(0^6-\\frac{0^7}{7})=\\frac{320}{7}-0$$\n",
        "\n",
        "\n",
        "Resposta:\n",
        "\n",
        "Quantidade aproximada de biomassa $\\frac{320}{7} = 45.71$\n",
        "\n",
        "\n",
        "\n",
        "\n"
      ],
      "metadata": {
        "id": "8vkrzYqvP9SH"
      }
    },
    {
      "cell_type": "markdown",
      "source": [
        "# Questão 2 - Vale até 1,5 pontos\n",
        "\n",
        "A aceleração de um objeto é dada por $a(t) = \\cos(\\pi t)$, e sua velocidade no tempo $t = 0$ é $\\frac{1}{\\pi}$. Usando apenas álgebra, encontre a distância total percorrida por este objeto nos primeiros $1,5$ segundos deste movimento. Dica: antes de calcular qualquer coisa verifique cuidadosamente a equação da aceleração. Não é necessário, mas talvez seja interessante, traçar um gráfico da aceleração e outro da velocidade para entender o problema. É necessário entender o movimento do objeto para saber quanto espaço ele realmente percorreu."
      ],
      "metadata": {
        "id": "-iPLzLPUNge9"
      }
    },
    {
      "cell_type": "markdown",
      "source": [
        "# Questão 3 - Vale até 2 pontos\n",
        "\n",
        "a) Encontre a área limitada por $f(x) = x^3 - 3x^2 + 2x + 1$ e $g(x) = x^2 - 4x + 4$ para $0 \\leq x \\leq 2$. Nesta questão você pode usar álgebra, ou Python, considerando as limitações de usos de bibliotecas definidas para esta avaliação.\n",
        "\n",
        "b) Encontre a área limitada por $f(x) = e^x - 2$ e $g(x) = x^2 - x + 1$ para $0 \\leq x \\leq 1$. Nesta questão você pode usar álgebra, ou Python, considerando as limitações de usos de bibliotecas definidas para esta avaliação.\n",
        "\n"
      ],
      "metadata": {
        "id": "CMdRv02PAz38"
      }
    },
    {
      "cell_type": "code",
      "source": [
        "import numpy as np\n",
        "import matplotlib.pyplot as plt\n",
        "\n",
        "# Definindo as funções\n",
        "def f(x):\n",
        "    return x**3 + -3*x**2 + 2*x + 1\n",
        "\n",
        "def g(x):\n",
        "    return x**2 -4*x +4\n",
        "\n",
        "# Intervalo de integração\n",
        "a, b = 1, 2\n",
        "\n",
        "# Número de pontos para a regra do trapézio\n",
        "n = 1000\n",
        "\n",
        "# Calculando a área usando a regra do trapézio\n",
        "x_vals = np.linspace(a, b, n+1)\n",
        "y1_vals = f(x_vals)\n",
        "y2_vals = g(x_vals)\n",
        "area = np.trapz(np.abs(y2_vals - y1_vals), x=x_vals)\n",
        "\n",
        "# Plotando as funções\n",
        "x = np.linspace(0, 3, 400)\n",
        "plt.figure(figsize=(10, 6))\n",
        "\n",
        "plt.plot(x, f(x), label=r'$f(x) = x**3 + -3*x**2 + 2*x + 1$', color='blue')\n",
        "plt.plot(x, g(x), label=r'$g(x) = x**2 -4*x +4$', color='green')\n",
        "\n",
        "# Preenchendo a área entre as curvas\n",
        "plt.fill_between(x, f(x), g(x), where=(x >= 1) & (x <= 2), color='gray', alpha=0.3)\n",
        "\n",
        "# Limites de integração\n",
        "plt.axvline(x=1, color='red', linestyle='--')\n",
        "plt.axvline(x=2, color='red', linestyle='--')\n",
        "\n",
        "# Títulos e legendas\n",
        "plt.title('Área entre $f(x)$ e $g(x)$')\n",
        "plt.xlabel('x')\n",
        "plt.ylabel('y')\n",
        "plt.legend()\n",
        "\n",
        "plt.grid(True)\n",
        "plt.show()\n",
        "\n",
        "# Imprimindo a área calculada\n",
        "print(f\"A área limitada por f(x) e g(x) no intervalo [1, 2] é aproximadamente: {area:.4f}\")\n"
      ],
      "metadata": {
        "colab": {
          "base_uri": "https://localhost:8080/",
          "height": 586
        },
        "id": "qsrZ-CYPQkG_",
        "outputId": "a10f4549-ecb5-4a22-c770-2714e32f5498"
      },
      "execution_count": 1,
      "outputs": [
        {
          "output_type": "display_data",
          "data": {
            "text/plain": [
              "<Figure size 1000x600 with 1 Axes>"
            ],
            "image/png": "[encoded data removed]"
          },
          "metadata": {}
        },
        {
          "output_type": "stream",
          "name": "stdout",
          "text": [
            "A área limitada por f(x) e g(x) no intervalo [1, 2] é aproximadamente: 0.4167\n"
          ]
        }
      ]
    },
    {
      "cell_type": "markdown",
      "source": [
        "# Questão 4 - Vale até 1 ponto\n",
        "\n",
        "Use o método dos discos para determinar o volume do sólido obtido pela rotação da região delimitada pelas funções $y = x^2$, $y = 3$ e o próprio eixo $y$ em torno do eixo $y$.\n",
        "\n"
      ],
      "metadata": {
        "id": "53zwpYIEF4fI"
      }
    },
    {
      "cell_type": "markdown",
      "source": [],
      "metadata": {
        "id": "56AZh8b1Yu5T"
      }
    },
    {
      "cell_type": "markdown",
      "source": [
        "# Questão 5 - Vale até 2 pontos\n",
        "Para os problemas a e b, determine a média, usando a integração, para a funções nos intervalos especificados.\n",
        "\n",
        "(a) (1 ponto): determine a média da função $f(x) = 8x - 3 + 5e^{2-x}$ no intervalo $[0, 2]$.\n",
        "\n",
        "(b) (1 ponto): considere que a posição de um objeto em movimento ao longo do eixo $x$ é descrita pela função de deslocamento $x(t) = t^3 - 6t^2 + 9t + 1$, onde $x(t)$ está em metros e $t$ está em segundos. Determine a velocidade média do objeto no intervalo de tempo de $t = 1$ segundo até $t = 4$ segundos."
      ],
      "metadata": {
        "id": "dr5lNibpLKmh"
      }
    },
    {
      "cell_type": "markdown",
      "source": [
        "a)"
      ],
      "metadata": {
        "id": "OtSRMqqLSaGu"
      }
    },
    {
      "cell_type": "markdown",
      "source": [
        "b)\n",
        "\n",
        "Primeira tentativa:\n",
        "\n",
        "Derivar $x(t) = t^3 - 6t^2 + 9t + 1$, onde $x(t)$ para obter a velocidade média:\n",
        "\n",
        "$\\int{t^3 - 6t^2 + 9t + 1}$\n",
        "\n",
        "Derivar pela derivada indefinida cada termo:\n",
        "\n",
        "Pela regra da potência:\n",
        "$$\\int{t^3}dx=(\\frac{1}{3+1})t^{3+1}+C=\\frac{t^4}{4}+C$$\n",
        "$$6\\int{t^2}dx=6(\\frac{1}{2+1})t^{2+1}+C=2t^3+C$$\n",
        "$$9\\int{t}dx=9(\\frac{1}{1+1})t^{1+1}+C=\\frac{9}{2}t^2+C$$\n",
        "$$1\\int{t^0}dx=1(\\frac{1}{0+1})t^{0+1}+C=t+C$$\n",
        "\n",
        "Derivada definida com o intervalo de tempo t de 0 a 4 segundos:\n",
        "\n",
        "$$\\int_{0}^{4}\\frac{t^4}{4}-2t^3+\\frac{9t^2}{2}+t\\Bigg|_{0}^{4}=$$\n",
        "\n",
        "substituindo por $t$ por 4 e 0:\n",
        "\n",
        "$$=(\\frac{(4)^4}{4}-2(4)^3+\\frac{9(4)^2}{2}+(4))-(\\frac{(0)^4}{4}-2(0)^3+\\frac{9(0)^2}{2}+(0))$$\n",
        "\n",
        "$$=12-0$$\n",
        "\n",
        "A velocidade média equivale a: $12$\n",
        "\n",
        "\n",
        "Segunda tentativa:\n",
        "\\documentclass{article}\n",
        "\\usepackage{amsmath}\n",
        "\n",
        "\\begin{document}\n",
        "\n",
        "A posição do objeto é dada pela função \\( x(t) = t^3 - 6t^2 + 9t + 1 \\).\n",
        "\n",
        "Para encontrar a velocidade média, utilizamos a fórmula da velocidade média:\n",
        "\n",
        "\\[\n",
        "v_{\\text{média}} = \\frac{x(t_2) - x(t_1)}{t_2 - t_1}\n",
        "\\]\n",
        "\n",
        "onde \\( t_1 = 1 \\) segundo e \\( t_2 = 4 \\) segundos.\n",
        "\n",
        "Primeiro, calculamos \\( x(4) \\) e \\( x(1) \\):\n",
        "\n",
        "\\[\n",
        "x(4) = (4)^3 - 6(4)^2 + 9(4) + 1\n",
        "\\]\n",
        "\n",
        "\\[\n",
        "x(4) = 64 - 96 + 36 + 1\n",
        "\\]\n",
        "\n",
        "\\[\n",
        "x(4) = 5\n",
        "\\]\n",
        "\n",
        "\\[\n",
        "x(1) = (1)^3 - 6(1)^2 + 9(1) + 1\n",
        "\\]\n",
        "\n",
        "\\[\n",
        "x(1) = 1 - 6 + 9 + 1\n",
        "\\]\n",
        "\n",
        "\\[\n",
        "x(1) = 5\n",
        "\\]\n",
        "\n",
        "Agora, podemos calcular a velocidade média:\n",
        "\n",
        "\\[\n",
        "v_{\\text{média}} = \\frac{x(4) - x(1)}{4 - 1}\n",
        "\\]\n",
        "\n",
        "\\[\n",
        "v_{\\text{média}} = \\frac{5 - 5}{4 - 1}\n",
        "\\]\n",
        "\n",
        "\\[\n",
        "v_{\\text{média}} = \\frac{0}{3}\n",
        "\\]\n",
        "\n",
        "$v_{\\text{média}} = 0 \\, \\text{m/s}$\n",
        "\n"
      ],
      "metadata": {
        "id": "7WdQgO1vScMi"
      }
    },
    {
      "cell_type": "markdown",
      "source": [
        "# Questão 6 - Vale até 2 pontos\n",
        "\n",
        "Nos ítens a seguir, encontre a família de antiderivadas das seguintes funções:\n",
        "\n",
        "(a) $$\\int \\frac{1}{x \\ln(x) \\ln(\\ln(x))} \\, dx$$\n",
        "(b) $$\\int x \\sqrt{2x + 1} \\, dx$$\n",
        "(c) $$\\int \\cos(4 - x) \\, dx$$\n",
        "(d) $$\\int e^{x^2} \\cdot 2x \\, dx$$\n"
      ],
      "metadata": {
        "id": "j_fo89ayUveW"
      }
    },
    {
      "cell_type": "markdown",
      "source": [
        "b) $$\\int x \\sqrt{2x + 1} dx$$\n",
        "\n",
        "inverso da raiz:\n",
        "$$\\int x ({2x + 1})^{1/2} dx$$\n",
        "\n",
        "regra da substituição:\n",
        "\n",
        "$$u=2x+1$$\n",
        "$$du=2$$\n",
        "$$xdx=\\frac{du}{2}$$\n",
        "\n",
        "$$\\int{u^{\\frac{1}{2}}}\\frac{du}{2}$$\n",
        "\n",
        "regra da potência:\n",
        "\n",
        "$\\frac{1}{2}(\\frac{1}{\\frac{1}{2}+1})u^{\\frac{1}{2}+1}+C=\\frac{1}{2}\\frac{u^{\\frac{3}{2}}}{\\frac{3}{2}}+C=\\frac{1}{2}\\cdot\\frac{2}{3}\\sqrt{u}+C=\\frac{1}{3}\\sqrt{2x+1}+C$"
      ],
      "metadata": {
        "id": "S5rqASB2Z3__"
      }
    }
  ]
}