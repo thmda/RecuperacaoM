{
  "nbformat": 4,
  "nbformat_minor": 0,
  "metadata": {
    "colab": {
      "provenance": [],
      "collapsed_sections": [
        "uPUHGXFBxpG6",
        "lu1FCy2vySpJ",
        "G7DZlWUEyzU_"
      ],
      "toc_visible": true,
      "include_colab_link": true
    },
    "kernelspec": {
      "name": "python3",
      "display_name": "Python 3"
    },
    "language_info": {
      "name": "python"
    }
  },
  "cells": [
    {
      "cell_type": "markdown",
      "metadata": {
        "id": "view-in-github",
        "colab_type": "text"
      },
      "source": [
        "<a href=\"https://colab.research.google.com/github/thmda/RecuperacaoM/blob/main/C%C3%B3pia_de_Substitutiva_RA1_Individual_Segunda_2024_1.ipynb\" target=\"_parent\"><img src=\"https://colab.research.google.com/assets/colab-badge.svg\" alt=\"Open In Colab\"/></a>"
      ]
    },
    {
      "cell_type": "markdown",
      "source": [
        "# Avaliação em INDIVIDUAL RA1 - 2024-1\n",
        "\n",
        "**Antes de começar, leia estas instruções cuidadosamente.**\n",
        "Esta avaliação é individual. Você poderá consultar qualquer fonte disponível na biblioteca, suas anotações ou na internet. Mas, não poderá consultar outras pessoas.\n",
        "\n",
        "Não existirão prorrogações de prazo de entrega.\n",
        "\n",
        "**Trabalhos idênticos entregues por pessoas, diferentes, serão zerados.**\n",
        "\n",
        "Todos os trabalhos serão entregues em uma cópia deste caderno de atividades na forma de um link postado no AVA da instituição (Canvas). Todos os enunciados devem ser preservados e você deverá inserir uma célula de textos com o **seu nome**, logo após esta célula de texto de instruções.\n",
        "\n",
        "Qualquer alteração do caderno contendo as suas respostas que seja registrada após a data de postagem provocará a anulação da avaliação.\n",
        "\n",
        "Você poderá usar, neste notebook, apenas a linguagem python limitada ao uso das seguintes bibliotecas: numpy, sympy, matplotlib, ipWidgets e IPython. Todo e qualquer gráfico deverá ser criado usando o Python.\n",
        "\n",
        "Entrega será realizada com a postagem de um link para um ambiente de execução, no AVA da institução. Neste link o seu caderno deve permitir ser executado (permissão de leitor). Serão aceitos links diretos ao ambiente do Google Colaboratory, ou Links a um caderno do Google Colaboratory que tenha sido salvo pelo próprio Google Colaboratory no GitHub. Links para outro ambiente, ou que requeiram qualquer tipo de download, cliques extras, ou ainda, que requeiram aprovação para acesso, provocarão o zeramento desta avaliação.\n",
        "\n",
        "Todas as suas simplificações e considerações serão levadas em consideração. Contudo, lembre-se que estas questões devem ser resolvidas com álgebra formal e apenas álgebra.\n",
        "\n",
        "Se você encontrar algo errado nesta avaliação simplesmente anote suas observações na própria questão. Suas observações serão consideradas durante a avaliação e, em caso de pertinência, poderão encejar a anulação do item, ou questão, a critério do professor.\n",
        "\n",
        "Não é permitido usar qualquer técnica matemática baseada em derivação, cálculo numérico, séries de Taylor ou Leibntz, ou que fuja dos conteúdos apresenados em aula referentes ao estudo dos conteúdos referentes a esta avaliação.\n",
        "\n",
        "Esta avaliação aborda os conteúdos referentes a limites, fórmula das diferenças finitas e tangentes.\n",
        "\n",
        "**Lembrem-se a interpretação faz parte da questão.**"
      ],
      "metadata": {
        "id": "IYWLM47FgvAt"
      }
    },
    {
      "cell_type": "markdown",
      "source": [
        "## Questões\n",
        "Usando apenas álgebra encontre o limites solicitados a seguir e faça uma análise dos resultados encontrados. Para fazer a análise você pode usar as ferramentas que desejar, desde que seja possível verificar a validade das suas afirmações usando apenas este caderno de avaliação.\n",
        "\n",
        "Lembre-se você deve usar notação matemática na sua resposta. O que implica no uso de Latex nas células de texto deste caderno de avaliação.\n",
        "\n",
        "Observe que o cálculo do valor de tendência do limite, usando uma calculadora, site, ou ferramenta qualquer, por si só não pode ser usado como argumento na sua análise. Isso quer dizer que justificativas como o limite é $w$ porque o Sympy disse que era esse valor, não serão aceitas.\n",
        "\n",
        "### Exercício 1\n",
        "$$ \\lim_{x \\to 1} \\frac{x^2 - 1}{x - 1} $$\n",
        "\n",
        "### Exercício 2\n",
        "$$ \\lim_{x \\to 3} \\frac{x^2 - x - 6}{x^2 - 9} $$\n",
        "\n",
        "### Exercício 3\n",
        "$$\n",
        "\\lim_{x \\to 1} f(x) \\text{ onde } f(x) = \\begin{cases}\n",
        "2x+1 & x \\leq 1 \\\\\n",
        "x^2 + 1 & x > 1\n",
        "\\end{cases}\n",
        "$$\n",
        "\n",
        "### Exercício 4\n",
        "$$\\lim_{x \\to -\\infty} (\\sqrt{x^2 - x} - x)$$\n",
        "\n",
        "**Atenção**: o sympy parece não calcular o Exercício 4 corretamente.\n",
        "\n",
        "### Exercício 5\n",
        "$$ \\lim_{x \\to \\infty} \\frac{4x^2 + 3x - 5}{2x^2 - x + 1} $$\n",
        "\n",
        "As análises podem ser feitas por meio da análise gráfica, ou da ánálise dos limites laterais (aproximações pela esquerda e pela direita. Serão avaliadas de acordo com o que for apresentado por cada aluno.\n",
        "\n",
        "**Rúbrica de avaliação**: cada limite corretamente determinado com a algebra demonstrada em notação matemática 1 ponto; cada análise consistente 1 ponto. Total 2 pontos por questão implicando em, no máximo 10 pontos.\n"
      ],
      "metadata": {
        "id": "Hffk6Rtmhaga"
      }
    },
    {
      "cell_type": "markdown",
      "source": [
        "# 1)\n",
        "$ \\lim_{x \\to 1} \\frac{x^2 - 1}{x - 1} $\n",
        "\n",
        "Por substituição direta:\n",
        "$$ \\lim_{x \\to 1} \\frac{0^2 - 0}{0 - 1}=\\frac{0}{0} $$\n",
        "\n",
        "O resultado é uma indeterminação.\n",
        "\n",
        "Diferença de quadrados no numerador:\n",
        "$$\\lim_{x \\to 1} \\frac{(x-1)(x+1)}{x - 1} $$\n",
        "\n",
        "Simplificando os termos em comum no numerador e no denominador:\n",
        "$$\\lim_{x \\to 1}(1+1)=2 $$"
      ],
      "metadata": {
        "id": "uPUHGXFBxpG6"
      }
    },
    {
      "cell_type": "code",
      "source": [
        "# limites laterais\n",
        "import sympy as sp\n",
        "from IPython.display import display, Math\n",
        "\n",
        "x = sp.symbols('x')\n",
        "\n",
        "funcao = (x**2-1)/(x-1)\n",
        "\n",
        "lim_esquerda = sp.limit(funcao,x,1,dir=\"-\")\n",
        "lim_direita = sp.limit(funcao,x,1,dir=\"+\")\n",
        "\n",
        "print(\"limite pela esquerda: \", lim_esquerda)\n",
        "print(\"limite pela direita: \", lim_direita)\n",
        "\n",
        "if lim_esquerda == lim_direita:\n",
        "  limite = sp.limit(funcao, x, 1)\n",
        "  print(\"Limite: \", limite)\n",
        "else:\n",
        "  print(\"Não existe limite\")\n",
        "\n",
        "def pontos_aproximados(valor_limite, distancia=[0.1, 0.01, 0.001, 0.0001]):\n",
        "  pontos_esq = [valor_limite - d for d in distancia]\n",
        "  pontos_dir = [valor_limite + d for d in distancia]\n",
        "  return pontos_esq, pontos_dir\n",
        "\n",
        "# pontos\n",
        "pontos_esq, pontos_dir = pontos_aproximados(1)\n",
        "\n",
        "# calculo valores de f(x) para os pontos\n",
        "valores_esq = [funcao.subs(x, ponto).evalf()for ponto in pontos_esq]\n",
        "valores_dir = [funcao.subs(x, ponto).evalf()for ponto in pontos_dir]\n",
        "\n",
        "\n",
        "tabela = \"\\\\begin{array}{|cccc|}\\n\"\n",
        "titulo = \"\\\\text{Limites Laterais}\"\n",
        "tabela += \"\\\\hline\\n\"\n",
        "tabela += titulo + \" & & & \\\\\\\\\\n\"\n",
        "tabela += \"\\\\hline\\n\"\n",
        "tabela += \"\\\\text{aprox. esquerda} & \\\\text{valor} & \\\\text{aprox. direita} & \\\\text{valor}\\\\\\\\\\n\"\n",
        "tabela += \"\\\\hline\\n\"\n",
        "\n",
        "for i in range(len(pontos_esq)):\n",
        "    tabela += f'{pontos_esq[i]:.5f} & {valores_esq[i]:.5f} & {pontos_dir[i]:.5f} & {valores_dir[i]:.5f}\\\\\\\\\\n'\n",
        "tabela += '\\\\hline\\n'\n",
        "tabela += '\\\\end{array}'\n",
        "\n",
        "display(Math(tabela))\n"
      ],
      "metadata": {
        "colab": {
          "base_uri": "https://localhost:8080/",
          "height": 192
        },
        "id": "TBxRaRdKxsbq",
        "outputId": "a4438cf9-71eb-4e9d-9a4c-35bd53f19558"
      },
      "execution_count": 2,
      "outputs": [
        {
          "output_type": "stream",
          "name": "stdout",
          "text": [
            "limite pela esquerda:  2\n",
            "limite pela direita:  2\n",
            "Limite:  2\n"
          ]
        },
        {
          "output_type": "display_data",
          "data": {
            "text/plain": [
              "<IPython.core.display.Math object>"
            ],
            "text/latex": "$\\displaystyle \\begin{array}{|cccc|}\n\\hline\n\\text{Limites Laterais} & & & \\\\\n\\hline\n\\text{aprox. esquerda} & \\text{valor} & \\text{aprox. direita} & \\text{valor}\\\\\n\\hline\n0.90000 & 1.90000 & 1.10000 & 2.10000\\\\\n0.99000 & 1.99000 & 1.01000 & 2.01000\\\\\n0.99900 & 1.99900 & 1.00100 & 2.00100\\\\\n0.99990 & 1.99990 & 1.00010 & 2.00010\\\\\n\\hline\n\\end{array}$"
          },
          "metadata": {}
        }
      ]
    },
    {
      "cell_type": "markdown",
      "source": [
        "# 2)\n",
        "$ \\lim_{x \\to 3} \\frac{x^2 - x - 6}{x^2 - 9} $\n",
        "\n",
        "Por substituição direta:\n",
        "$$ \\lim_{x \\to 3} \\frac{3^2 - 3 - 6}{3^2 - 9}=\\frac{0}{0}$$\n",
        "\n",
        "O resultado é uma indeterminação.\n",
        "\n",
        "Simplificando: termo em comum no numerador e diferença de quadrados no denominador:\n",
        "$$ \\lim_{x \\to 3} \\frac{(x+2)(x-3)}{(x-3)(x+3)} $$\n",
        "\n",
        "Simplificando os termos em comum no numerador e no denominador:\n",
        "$$ \\lim_{x \\to 3} \\frac{(x+2)}{(x+3)}=\\frac{5}{6}$$"
      ],
      "metadata": {
        "id": "lu1FCy2vySpJ"
      }
    },
    {
      "cell_type": "code",
      "source": [
        "# limites laterais\n",
        "import sympy as sp\n",
        "from IPython.display import display, Math\n",
        "\n",
        "x = sp.symbols('x')\n",
        "\n",
        "funcao = (x**2-x-6)/(x**2-9)\n",
        "\n",
        "lim_esquerda = sp.limit(funcao,x,3,dir=\"-\")\n",
        "lim_direita = sp.limit(funcao,x,3,dir=\"+\")\n",
        "\n",
        "print(\"limite pela esquerda: \", lim_esquerda)\n",
        "print(\"limite pela direita: \", lim_direita)\n",
        "\n",
        "if lim_esquerda == lim_direita:\n",
        "  limite = sp.limit(funcao, x, 3)\n",
        "  print(\"Limite: \", limite)\n",
        "else:\n",
        "  print(\"Não existe limite\")\n",
        "\n",
        "def pontos_aproximados(valor_limite, distancia=[0.1, 0.01, 0.001, 0.0001]):\n",
        "  pontos_esq = [valor_limite - d for d in distancia]\n",
        "  pontos_dir = [valor_limite + d for d in distancia]\n",
        "  return pontos_esq, pontos_dir\n",
        "\n",
        "# pontos\n",
        "pontos_esq, pontos_dir = pontos_aproximados(3)\n",
        "\n",
        "# calculo valores de f(x) para os pontos\n",
        "valores_esq = [funcao.subs(x, ponto).evalf()for ponto in pontos_esq]\n",
        "valores_dir = [funcao.subs(x, ponto).evalf()for ponto in pontos_dir]\n",
        "\n",
        "\n",
        "tabela = \"\\\\begin{array}{|cccc|}\\n\"\n",
        "titulo = \"\\\\text{Limites Laterais}\"\n",
        "tabela += \"\\\\hline\\n\"\n",
        "tabela += titulo + \" & & & \\\\\\\\\\n\"\n",
        "tabela += \"\\\\hline\\n\"\n",
        "tabela += \"\\\\text{aprox. esquerda} & \\\\text{valor} & \\\\text{aprox. direita} & \\\\text{valor}\\\\\\\\\\n\"\n",
        "tabela += \"\\\\hline\\n\"\n",
        "\n",
        "for i in range(len(pontos_esq)):\n",
        "    tabela += f'{pontos_esq[i]:.5f} & {valores_esq[i]:.5f} & {pontos_dir[i]:.5f} & {valores_dir[i]:.5f}\\\\\\\\\\n'\n",
        "tabela += '\\\\hline\\n'\n",
        "tabela += '\\\\end{array}'\n",
        "\n",
        "display(Math(tabela))\n"
      ],
      "metadata": {
        "colab": {
          "base_uri": "https://localhost:8080/",
          "height": 192
        },
        "id": "k3L6x87XygaX",
        "outputId": "4abd3434-1fdd-4b18-b6ce-2a1ab1fffb1c"
      },
      "execution_count": 3,
      "outputs": [
        {
          "output_type": "stream",
          "name": "stdout",
          "text": [
            "limite pela esquerda:  5/6\n",
            "limite pela direita:  5/6\n",
            "Limite:  5/6\n"
          ]
        },
        {
          "output_type": "display_data",
          "data": {
            "text/plain": [
              "<IPython.core.display.Math object>"
            ],
            "text/latex": "$\\displaystyle \\begin{array}{|cccc|}\n\\hline\n\\text{Limites Laterais} & & & \\\\\n\\hline\n\\text{aprox. esquerda} & \\text{valor} & \\text{aprox. direita} & \\text{valor}\\\\\n\\hline\n2.90000 & 0.83051 & 3.10000 & 0.83607\\\\\n2.99000 & 0.83306 & 3.01000 & 0.83361\\\\\n2.99900 & 0.83331 & 3.00100 & 0.83336\\\\\n2.99990 & 0.83333 & 3.00010 & 0.83334\\\\\n\\hline\n\\end{array}$"
          },
          "metadata": {}
        }
      ]
    },
    {
      "cell_type": "markdown",
      "source": [
        "# 3)\n",
        "\n",
        "$$\n",
        "\\lim_{x \\to 1} f(x) \\text{ onde } f(x) = \\begin{cases}\n",
        "2x+1 & x \\leq 1 \\\\\n",
        "x^2 + 1 & x > 1\n",
        "\\end{cases}\n",
        "$$\n",
        "\n",
        "$$2\\cdot1+1 = 3$$\n",
        "$$4+1=5$$"
      ],
      "metadata": {
        "id": "G7DZlWUEyzU_"
      }
    },
    {
      "cell_type": "code",
      "source": [
        "import sympy as sp\n",
        "import numpy as np\n",
        "import matplotlib.pyplot as plt\n",
        "\n",
        "x = sp.symbols('x')\n",
        "\n",
        "# Definição da função\n",
        "def funcao(x):\n",
        "    return sp.Piecewise((2*x+1, x <= 1), (x**2 + 1, x > 1))\n",
        "\n",
        "# Calcular os limites\n",
        "limite_a = sp.limit(funcao(x), x, 1)\n",
        "limite_b = sp.limit(funcao(x), x, 2)\n",
        "\n",
        "# Função para avaliar numericamente a função\n",
        "funcao_numerica = sp.lambdify(x, funcao(x), 'numpy')\n",
        "\n",
        "# Intervalo para o gráfico\n",
        "x_vals = np.linspace(-10, 10, 400)\n",
        "y_vals = funcao_numerica(x_vals)\n",
        "\n",
        "# Plotar a função\n",
        "plt.plot(x_vals, y_vals, label='$f(x)$')\n",
        "plt.axvline(x=-6, color='red', linestyle='--', label='Limite em $x = 1$')\n",
        "plt.axvline(x=1, color='green', linestyle='--', label='Limite em $x = 2$')\n",
        "plt.xlabel('$x$')\n",
        "plt.ylabel('$f(x)$')\n",
        "plt.title('Gráfico da função $f(x)$ e limites')\n",
        "plt.legend()\n",
        "plt.grid(True)\n",
        "plt.show()"
      ],
      "metadata": {
        "colab": {
          "base_uri": "https://localhost:8080/",
          "height": 475
        },
        "id": "5txnR006_uMw",
        "outputId": "679c1f3f-dde5-4038-c6aa-cfee970f7de9"
      },
      "execution_count": 14,
      "outputs": [
        {
          "output_type": "display_data",
          "data": {
            "text/plain": [
              "<Figure size 640x480 with 1 Axes>"
            ],
            "image/png": "[encoded data removed]"
          },
          "metadata": {}
        }
      ]
    },
    {
      "cell_type": "code",
      "source": [
        "import sympy as sp\n",
        "\n",
        "x = sp.symbols('x')\n",
        "\n",
        "# Definição da função\n",
        "def funcao(x):\n",
        "    return sp.Piecewise((2*x+1, x <= 1), (x**2 + 1, x > 1))\n",
        "\n",
        "# Calcular os limites\n",
        "limite_a = sp.limit(funcao(x), x, 1)\n",
        "limite_b = sp.limit(funcao(x), x, 2)\n",
        "\n",
        "print(\"Limite em x = 1:\", limite_a)\n",
        "print(\"Limite em x = 2:\", limite_b)\n"
      ],
      "metadata": {
        "colab": {
          "base_uri": "https://localhost:8080/"
        },
        "id": "UmD4aMP6_ykn",
        "outputId": "1cf90491-8a82-4951-d48c-7eb063d1b681"
      },
      "execution_count": 16,
      "outputs": [
        {
          "output_type": "stream",
          "name": "stdout",
          "text": [
            "Limite em x = 1: 3\n",
            "Limite em x = 2: 5\n"
          ]
        }
      ]
    },
    {
      "cell_type": "markdown",
      "source": [
        "# 4)\n",
        "\n",
        "$\\lim_{x \\to -\\infty} (\\sqrt{x^2 - x} - x)$\n",
        "\n",
        "Por substituição direta:\n",
        "$$\\lim_{x \\to -\\infty} (\\sqrt{-(-\\infty)^2 - (-\\infty)} - (-\\infty))={\\sqrt{-\\infty+\\infty}+\\infty}$$\n",
        "O resultado é uma indeterminação.\n",
        "\n",
        "$$\\lim_{x \\to -\\infty} (\\sqrt{x(x - 1)} - x)$$\n"
      ],
      "metadata": {
        "id": "CMgyL1gAzEJW"
      }
    },
    {
      "cell_type": "code",
      "source": [
        "# limites laterais\n",
        "import sympy as sp\n",
        "from sympy import sqrt, oo\n",
        "from IPython.display import display, Math\n",
        "\n",
        "x = sp.symbols('x')\n",
        "\n",
        "funcao = (sqrt(x**2-x)-x)\n",
        "\n",
        "lim_esquerda = sp.limit(funcao,x,-oo,dir=\"-\")\n",
        "lim_direita = sp.limit(funcao,x,-oo,dir=\"+\")\n",
        "\n",
        "print(\"limite pela esquerda: \", lim_esquerda)\n",
        "print(\"limite pela direita: \", lim_direita)\n",
        "\n",
        "if lim_esquerda == lim_direita:\n",
        "  limite = sp.limit(funcao, x, -oo)\n",
        "  print(\"Limite: \", limite)\n",
        "else:\n",
        "  print(\"Não existe limite\")\n",
        "\n",
        "def pontos_aproximados(valor_limite, distancia=[0.1, 0.01, 0.001, 0.0001]):\n",
        "  pontos_esq = [valor_limite - d for d in distancia]  # Corrigido aqui\n",
        "  pontos_dir = [valor_limite + d for d in distancia]  # Corrigido aqui\n",
        "  return pontos_esq, pontos_dir\n",
        "\n",
        "# pontos\n",
        "pontos_esq, pontos_dir = pontos_aproximados(-oo)\n",
        "\n",
        "# calculo valores de f(x) para os pontos\n",
        "valores_esq = [funcao.subs(x, ponto).evalf()for ponto in pontos_esq]\n",
        "valores_dir = [funcao.subs(x, ponto).evalf()for ponto in pontos_dir]\n",
        "\n",
        "\n",
        "tabela = \"\\\\begin{array}{|cccc|}\\n\"\n",
        "titulo = \"\\\\text{Limites Laterais}\"\n",
        "tabela += \"\\\\hline\\n\"\n",
        "tabela += titulo + \" & & & \\\\\\\\\\n\"\n",
        "tabela += \"\\\\hline\\n\"\n",
        "tabela += \"\\\\text{aprox. esquerda} & \\\\text{valor} & \\\\text{aprox. direita} & \\\\text{valor}\\\\\\\\\\n\"\n",
        "tabela += \"\\\\hline\\n\"\n",
        "\n",
        "for i in range(len(pontos_esq)):\n",
        "    tabela += f'{pontos_esq[i]:.5f} & {valores_esq[i]:.5f} & {pontos_dir[i]:.5f} & {valores_dir[i]:.5f}\\\\\\\\\\n'\n",
        "tabela += '\\\\hline\\n'\n",
        "tabela += '\\\\end{array}'\n",
        "\n",
        "display(Math(tabela))\n"
      ],
      "metadata": {
        "colab": {
          "base_uri": "https://localhost:8080/",
          "height": 384
        },
        "id": "OiWcMD0CzNWs",
        "outputId": "487e1b59-3696-428b-a192-d1004838a6f9"
      },
      "execution_count": 26,
      "outputs": [
        {
          "output_type": "stream",
          "name": "stdout",
          "text": [
            "limite pela esquerda:  oo\n",
            "limite pela direita:  oo\n",
            "Limite:  oo\n"
          ]
        },
        {
          "output_type": "error",
          "ename": "TypeError",
          "evalue": "unsupported format string passed to NegativeInfinity.__format__",
          "traceback": [
            "\u001b[0;31m---------------------------------------------------------------------------\u001b[0m",
            "\u001b[0;31mTypeError\u001b[0m                                 Traceback (most recent call last)",
            "\u001b[0;32m<ipython-input-26-1c1a7ae46939>\u001b[0m in \u001b[0;36m<cell line: 43>\u001b[0;34m()\u001b[0m\n\u001b[1;32m     42\u001b[0m \u001b[0;34m\u001b[0m\u001b[0m\n\u001b[1;32m     43\u001b[0m \u001b[0;32mfor\u001b[0m \u001b[0mi\u001b[0m \u001b[0;32min\u001b[0m \u001b[0mrange\u001b[0m\u001b[0;34m(\u001b[0m\u001b[0mlen\u001b[0m\u001b[0;34m(\u001b[0m\u001b[0mpontos_esq\u001b[0m\u001b[0;34m)\u001b[0m\u001b[0;34m)\u001b[0m\u001b[0;34m:\u001b[0m\u001b[0;34m\u001b[0m\u001b[0;34m\u001b[0m\u001b[0m\n\u001b[0;32m---> 44\u001b[0;31m     \u001b[0mtabela\u001b[0m \u001b[0;34m+=\u001b[0m \u001b[0;34mf'{pontos_esq[i]:.5f} & {valores_esq[i]:.5f} & {pontos_dir[i]:.5f} & {valores_dir[i]:.5f}\\\\\\\\\\n'\u001b[0m\u001b[0;34m\u001b[0m\u001b[0;34m\u001b[0m\u001b[0m\n\u001b[0m\u001b[1;32m     45\u001b[0m \u001b[0mtabela\u001b[0m \u001b[0;34m+=\u001b[0m \u001b[0;34m'\\\\hline\\n'\u001b[0m\u001b[0;34m\u001b[0m\u001b[0;34m\u001b[0m\u001b[0m\n\u001b[1;32m     46\u001b[0m \u001b[0mtabela\u001b[0m \u001b[0;34m+=\u001b[0m \u001b[0;34m'\\\\end{array}'\u001b[0m\u001b[0;34m\u001b[0m\u001b[0;34m\u001b[0m\u001b[0m\n",
            "\u001b[0;32m/usr/local/lib/python3.10/dist-packages/sympy/core/expr.py\u001b[0m in \u001b[0;36m__format__\u001b[0;34m(self, format_spec)\u001b[0m\n\u001b[1;32m    392\u001b[0m                 \u001b[0;32mif\u001b[0m \u001b[0mrounded\u001b[0m\u001b[0;34m.\u001b[0m\u001b[0mis_Float\u001b[0m\u001b[0;34m:\u001b[0m\u001b[0;34m\u001b[0m\u001b[0;34m\u001b[0m\u001b[0m\n\u001b[1;32m    393\u001b[0m                     \u001b[0;32mreturn\u001b[0m \u001b[0mformat\u001b[0m\u001b[0;34m(\u001b[0m\u001b[0mrounded\u001b[0m\u001b[0;34m,\u001b[0m \u001b[0mformat_spec\u001b[0m\u001b[0;34m)\u001b[0m\u001b[0;34m\u001b[0m\u001b[0;34m\u001b[0m\u001b[0m\n\u001b[0;32m--> 394\u001b[0;31m         \u001b[0;32mreturn\u001b[0m \u001b[0msuper\u001b[0m\u001b[0;34m(\u001b[0m\u001b[0;34m)\u001b[0m\u001b[0;34m.\u001b[0m\u001b[0m__format__\u001b[0m\u001b[0;34m(\u001b[0m\u001b[0mformat_spec\u001b[0m\u001b[0;34m)\u001b[0m\u001b[0;34m\u001b[0m\u001b[0;34m\u001b[0m\u001b[0m\n\u001b[0m\u001b[1;32m    395\u001b[0m \u001b[0;34m\u001b[0m\u001b[0m\n\u001b[1;32m    396\u001b[0m     \u001b[0;34m@\u001b[0m\u001b[0mstaticmethod\u001b[0m\u001b[0;34m\u001b[0m\u001b[0;34m\u001b[0m\u001b[0m\n",
            "\u001b[0;31mTypeError\u001b[0m: unsupported format string passed to NegativeInfinity.__format__"
          ]
        }
      ]
    },
    {
      "cell_type": "code",
      "source": [
        "import numpy as np\n",
        "import matplotlib.pyplot as plt\n",
        "\n",
        "# Definindo a função\n",
        "def f(x):\n",
        "    return np.sqrt(x**2 - x) - x\n",
        "\n",
        "# Gerando os valores de x\n",
        "x = np.linspace(-100, 0, 400)  # Valores de -100 a 0\n",
        "\n",
        "# Calculando os valores de f(x)\n",
        "y = f(x)\n",
        "\n",
        "# Plotando o gráfico\n",
        "plt.figure(figsize=(8, 6))\n",
        "plt.plot(x, y, label=r'$\\lim_{x \\to -\\infty} (\\sqrt{x^2 - x} - x)$', color='blue')\n",
        "plt.title('Gráfico de $\\lim_{x \\to -\\infty} (\\sqrt{x^2 - x} - x)$')\n",
        "plt.xlabel('x')\n",
        "plt.ylabel('f(x)')\n",
        "plt.axhline(0, color='black',linewidth=0.5)\n",
        "plt.axvline(0, color='black',linewidth=0.5)\n",
        "plt.grid(color = 'gray', linestyle = '--', linewidth = 0.5)\n",
        "plt.legend()\n",
        "plt.show()"
      ],
      "metadata": {
        "colab": {
          "base_uri": "https://localhost:8080/",
          "height": 579
        },
        "id": "iZ1wVlguCUOr",
        "outputId": "72b8e159-eea2-4ca8-c62c-53d296235137"
      },
      "execution_count": 27,
      "outputs": [
        {
          "output_type": "display_data",
          "data": {
            "text/plain": [
              "<Figure size 800x600 with 1 Axes>"
            ],
            "image/png": "[encoded data removed]"
          },
          "metadata": {}
        }
      ]
    },
    {
      "cell_type": "markdown",
      "source": [
        "# 5)\n",
        "\n",
        "$ \\lim_{x \\to \\infty} \\frac{4x^2 + 3x - 5}{2x^2 - x + 1} $\n",
        "\n",
        "Por substituição direta:\n",
        "$$ \\lim_{x \\to \\infty} \\frac{4\\cdot0^2 + 3\\cdot0 - 5}{2\\cdot0^2 - 0 + 1}=\\frac{0}{0}$$\n",
        "\n",
        "O resultado é uma indeterminação.\n",
        "\n",
        "Simplificando pelo termo de maior potência:\n",
        "$$ \\lim_{x \\to \\infty} \\frac{4x^2 + 3x - 5}{2x^2 - x + 1}=\\frac{x^2(\\frac{4}{x^2}+\\frac{3}{x}-\\frac{5}{x^2})}{2x^2 - x + 1}$$\n",
        "\n",
        "$$\\frac{4+\\frac{3}{x}-\\frac{5}{x^2}}{2-\\frac{1}{x}+\\frac{1}{x^2}}$$\n",
        "substituindo:\n",
        "$$\\frac{4+\\frac{3}{x}-\\frac{5}{x^2}}{2-\\frac{1}{x}+\\frac{1}{x^2}}=\\frac{4+\\frac{3}{0}-\\frac{5}{0^2}}{2-\\frac{1}{0}+\\frac{1}{0^2}}=\\frac{4}{2}=2$$"
      ],
      "metadata": {
        "id": "eAgPJxQ4zafJ"
      }
    },
    {
      "cell_type": "code",
      "source": [
        "# limites laterais\n",
        "import sympy as sp\n",
        "from sympy import oo\n",
        "from IPython.display import display, Math\n",
        "\n",
        "x = sp.symbols('x')\n",
        "\n",
        "funcao = (4*x**2+3*x-5)/(2*x**2-x+1)\n",
        "\n",
        "lim_esquerda = sp.limit(funcao,x,oo,dir=\"-\")\n",
        "lim_direita = sp.limit(funcao,x,oo,dir=\"+\")\n",
        "\n",
        "print(\"limite pela esquerda: \", lim_esquerda)\n",
        "print(\"limite pela direita: \", lim_direita)\n",
        "\n",
        "if lim_esquerda == lim_direita:\n",
        "  limite = sp.limit(funcao, x, oo)\n",
        "  print(\"Limite: \", limite)\n",
        "else:\n",
        "  print(\"Não existe limite\")\n",
        "\n",
        "def pontos_aproximados(valor_limite, distancia=[0.1, 0.01, 0.001, 0.0001]):\n",
        "  pontos_esq = [valor_limite - d for d in distancia]\n",
        "  pontos_dir = [valor_limite + d for d in distancia]\n",
        "  return pontos_esq, pontos_dir\n",
        "\n",
        "# pontos\n",
        "pontos_esq, pontos_dir = pontos_aproximados(oo)\n",
        "\n",
        "# calculo valores de f(x) para os pontos\n",
        "valores_esq = [funcao.subs(x, ponto).evalf()for ponto in pontos_esq]\n",
        "valores_dir = [funcao.subs(x, ponto).evalf()for ponto in pontos_dir]\n",
        "\n",
        "\n",
        "tabela = \"\\\\begin{array}{|cccc|}\\n\"\n",
        "titulo = \"\\\\text{Limites Laterais}\"\n",
        "tabela += \"\\\\hline\\n\"\n",
        "tabela += titulo + \" & & & \\\\\\\\\\n\"\n",
        "tabela += \"\\\\hline\\n\"\n",
        "tabela += \"\\\\text{aprox. esquerda} & \\\\text{valor} & \\\\text{aprox. direita} & \\\\text{valor}\\\\\\\\\\n\"\n",
        "tabela += \"\\\\hline\\n\"\n",
        "\n",
        "for i in range(len(pontos_esq)):\n",
        "    tabela += f'{pontos_esq[i]:.5f} & {valores_esq[i]:.5f} & {pontos_dir[i]:.5f} & {valores_dir[i]:.5f}\\\\\\\\\\n'\n",
        "tabela += '\\\\hline\\n'\n",
        "tabela += '\\\\end{array}'\n",
        "\n",
        "display(Math(tabela))\n"
      ],
      "metadata": {
        "colab": {
          "base_uri": "https://localhost:8080/",
          "height": 384
        },
        "id": "Lg3HZFwJzr7K",
        "outputId": "8ccccaee-4083-49e3-e18c-2c7674ba3a7b"
      },
      "execution_count": 29,
      "outputs": [
        {
          "output_type": "stream",
          "name": "stdout",
          "text": [
            "limite pela esquerda:  2\n",
            "limite pela direita:  2\n",
            "Limite:  2\n"
          ]
        },
        {
          "output_type": "error",
          "ename": "TypeError",
          "evalue": "unsupported format string passed to Infinity.__format__",
          "traceback": [
            "\u001b[0;31m---------------------------------------------------------------------------\u001b[0m",
            "\u001b[0;31mTypeError\u001b[0m                                 Traceback (most recent call last)",
            "\u001b[0;32m<ipython-input-29-11a8729cc977>\u001b[0m in \u001b[0;36m<cell line: 43>\u001b[0;34m()\u001b[0m\n\u001b[1;32m     42\u001b[0m \u001b[0;34m\u001b[0m\u001b[0m\n\u001b[1;32m     43\u001b[0m \u001b[0;32mfor\u001b[0m \u001b[0mi\u001b[0m \u001b[0;32min\u001b[0m \u001b[0mrange\u001b[0m\u001b[0;34m(\u001b[0m\u001b[0mlen\u001b[0m\u001b[0;34m(\u001b[0m\u001b[0mpontos_esq\u001b[0m\u001b[0;34m)\u001b[0m\u001b[0;34m)\u001b[0m\u001b[0;34m:\u001b[0m\u001b[0;34m\u001b[0m\u001b[0;34m\u001b[0m\u001b[0m\n\u001b[0;32m---> 44\u001b[0;31m     \u001b[0mtabela\u001b[0m \u001b[0;34m+=\u001b[0m \u001b[0;34mf'{pontos_esq[i]:.5f} & {valores_esq[i]:.5f} & {pontos_dir[i]:.5f} & {valores_dir[i]:.5f}\\\\\\\\\\n'\u001b[0m\u001b[0;34m\u001b[0m\u001b[0;34m\u001b[0m\u001b[0m\n\u001b[0m\u001b[1;32m     45\u001b[0m \u001b[0mtabela\u001b[0m \u001b[0;34m+=\u001b[0m \u001b[0;34m'\\\\hline\\n'\u001b[0m\u001b[0;34m\u001b[0m\u001b[0;34m\u001b[0m\u001b[0m\n\u001b[1;32m     46\u001b[0m \u001b[0mtabela\u001b[0m \u001b[0;34m+=\u001b[0m \u001b[0;34m'\\\\end{array}'\u001b[0m\u001b[0;34m\u001b[0m\u001b[0;34m\u001b[0m\u001b[0m\n",
            "\u001b[0;32m/usr/local/lib/python3.10/dist-packages/sympy/core/expr.py\u001b[0m in \u001b[0;36m__format__\u001b[0;34m(self, format_spec)\u001b[0m\n\u001b[1;32m    392\u001b[0m                 \u001b[0;32mif\u001b[0m \u001b[0mrounded\u001b[0m\u001b[0;34m.\u001b[0m\u001b[0mis_Float\u001b[0m\u001b[0;34m:\u001b[0m\u001b[0;34m\u001b[0m\u001b[0;34m\u001b[0m\u001b[0m\n\u001b[1;32m    393\u001b[0m                     \u001b[0;32mreturn\u001b[0m \u001b[0mformat\u001b[0m\u001b[0;34m(\u001b[0m\u001b[0mrounded\u001b[0m\u001b[0;34m,\u001b[0m \u001b[0mformat_spec\u001b[0m\u001b[0;34m)\u001b[0m\u001b[0;34m\u001b[0m\u001b[0;34m\u001b[0m\u001b[0m\n\u001b[0;32m--> 394\u001b[0;31m         \u001b[0;32mreturn\u001b[0m \u001b[0msuper\u001b[0m\u001b[0;34m(\u001b[0m\u001b[0;34m)\u001b[0m\u001b[0;34m.\u001b[0m\u001b[0m__format__\u001b[0m\u001b[0;34m(\u001b[0m\u001b[0mformat_spec\u001b[0m\u001b[0;34m)\u001b[0m\u001b[0;34m\u001b[0m\u001b[0;34m\u001b[0m\u001b[0m\n\u001b[0m\u001b[1;32m    395\u001b[0m \u001b[0;34m\u001b[0m\u001b[0m\n\u001b[1;32m    396\u001b[0m     \u001b[0;34m@\u001b[0m\u001b[0mstaticmethod\u001b[0m\u001b[0;34m\u001b[0m\u001b[0;34m\u001b[0m\u001b[0m\n",
            "\u001b[0;31mTypeError\u001b[0m: unsupported format string passed to Infinity.__format__"
          ]
        }
      ]
    }
  ]
}